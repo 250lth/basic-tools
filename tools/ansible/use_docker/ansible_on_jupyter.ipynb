{
 "cells": [
  {
   "cell_type": "code",
   "execution_count": 3,
   "metadata": {},
   "outputs": [
    {
     "name": "stdout",
     "output_type": "stream",
     "text": [
      "\u001b[1;31mserver1 | UNREACHABLE! => {\u001b[0m\n",
      "\u001b[1;31m    \"changed\": false,\u001b[0m\n",
      "\u001b[1;31m    \"msg\": \"Failed to connect to the host via ssh: ssh: Could not resolve hostname server1: Temporary failure in name resolution\\r\\n\",\u001b[0m\n",
      "\u001b[1;31m    \"unreachable\": true\u001b[0m\n",
      "\u001b[1;31m}\u001b[0m\n",
      "\u001b[1;31mserver2 | UNREACHABLE! => {\u001b[0m\n",
      "\u001b[1;31m    \"changed\": false,\u001b[0m\n",
      "\u001b[1;31m    \"msg\": \"Failed to connect to the host via ssh: ssh: Could not resolve hostname server2: Temporary failure in name resolution\\r\\n\",\u001b[0m\n",
      "\u001b[1;31m    \"unreachable\": true\u001b[0m\n",
      "\u001b[1;31m}\u001b[0m\n"
     ]
    }
   ],
   "source": [
    "!ansible all -m command -a 'sudo cat /etc/sudoers' --become"
   ]
  },
  {
   "cell_type": "code",
   "execution_count": null,
   "metadata": {
    "collapsed": true
   },
   "outputs": [],
   "source": []
  },
  {
   "cell_type": "code",
   "execution_count": null,
   "metadata": {
    "collapsed": true
   },
   "outputs": [],
   "source": []
  },
  {
   "cell_type": "code",
   "execution_count": null,
   "metadata": {
    "collapsed": true
   },
   "outputs": [],
   "source": []
  }
 ],
 "metadata": {
  "kernelspec": {
   "display_name": "Python 3",
   "language": "python",
   "name": "python3"
  },
  "language_info": {
   "codemirror_mode": {
    "name": "ipython",
    "version": 3
   },
   "file_extension": ".py",
   "mimetype": "text/x-python",
   "name": "python",
   "nbconvert_exporter": "python",
   "pygments_lexer": "ipython3",
   "version": "3.5.2"
  }
 },
 "nbformat": 4,
 "nbformat_minor": 2
}
